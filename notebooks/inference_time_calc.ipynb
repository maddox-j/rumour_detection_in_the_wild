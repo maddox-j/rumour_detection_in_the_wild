{
 "cells": [
  {
   "cell_type": "markdown",
   "id": "5eb0b797-7413-40dd-9288-fb6e7594db04",
   "metadata": {},
   "source": [
    "# Inference Time Calculations"
   ]
  },
  {
   "cell_type": "code",
   "execution_count": null,
   "id": "c93855b9-4a10-4738-aa79-be440e40fb3f",
   "metadata": {
    "tags": []
   },
   "outputs": [],
   "source": [
    "import numpy as np\n",
    "import matplotlib.pyplot as plt\n",
    "import seaborn as sns\n",
    "import os\n",
    "from pathlib import Path\n",
    "\n",
    "sns.set_theme(\"paper\")\n",
    "\n",
    "INFERENCE_TIMES_RESULS = os.path.join(Path(os.path.abspath(\"\")).parent, \"testing_results\", \"extension_latency.txt\")\n",
    "times = np.array([])\n",
    "with open(INFERENCE_TIMES_RESULS, mode=\"r\") as f:\n",
    "    for line in f.readlines():\n",
    "        value = float(line[:line.index(\",\")])\n",
    "        times = np.append(times, value)"
   ]
  },
  {
   "cell_type": "code",
   "execution_count": null,
   "id": "d78cc114-ce85-4e0b-988e-a43f8ff023f8",
   "metadata": {
    "tags": []
   },
   "outputs": [],
   "source": [
    "fig_1, ax1 = plt.subplots(1,1, figsize=(6,3))\n",
    "\n",
    "ax1.hist(times, cumulative=True, density=True, histtype=\"step\", bins=100,)\n",
    "ax1.set_xlabel(\"x (Response time in seconds)\")\n",
    "ax1.set_ylabel(\"F(x)\")\n",
    "fig_1.tight_layout()\n",
    "poly = ax1.findobj(plt.Polygon)[0]\n",
    "vertices = poly.get_path().vertices\n",
    "\n",
    "# Keep everything above y == 0. You can define this mask however\n",
    "# you need, if you want to be more careful in your selection.\n",
    "keep = vertices[:, 1] > 0\n",
    "\n",
    "# Construct new polygon from these \"good\" vertices\n",
    "new_poly = plt.Polygon(vertices[keep], closed=False, fill=False,\n",
    "                       edgecolor=poly.get_edgecolor(),\n",
    "                       linewidth=poly.get_linewidth())\n",
    "poly.set_visible(False)\n",
    "ax1.add_artist(new_poly)\n",
    "plt.draw()\n",
    "fig_1.savefig(os.path.join(os.path.abspath(\"\"),\"generated_figures\",\"inf_time_cdf.pdf\"),format=\"pdf\")"
   ]
  },
  {
   "cell_type": "code",
   "execution_count": null,
   "id": "183d11e2-bc24-4499-b8d3-88a7d078cdf3",
   "metadata": {
    "tags": []
   },
   "outputs": [],
   "source": [
    "sorted_times = sorted(times)\n",
    "sorted_times[:int(len(sorted_times) * .90)]"
   ]
  }
 ],
 "metadata": {
  "kernelspec": {
   "display_name": "Python 3 (ipykernel)",
   "language": "python",
   "name": "python3"
  },
  "language_info": {
   "codemirror_mode": {
    "name": "ipython",
    "version": 3
   },
   "file_extension": ".py",
   "mimetype": "text/x-python",
   "name": "python",
   "nbconvert_exporter": "python",
   "pygments_lexer": "ipython3",
   "version": "3.8.15"
  }
 },
 "nbformat": 4,
 "nbformat_minor": 5
}

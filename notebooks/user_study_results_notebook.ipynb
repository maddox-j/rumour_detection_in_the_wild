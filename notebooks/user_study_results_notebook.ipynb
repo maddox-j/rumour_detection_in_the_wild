{
 "cells": [
  {
   "cell_type": "markdown",
   "id": "14101c8e-51a5-4d15-a057-50a1d33997ff",
   "metadata": {},
   "source": [
    "# User Study Results\n",
    "\n",
    "This notebook will be used to analyse the results from the user study, and generate associated graphical material."
   ]
  },
  {
   "cell_type": "code",
   "execution_count": null,
   "id": "3d61327d-ff18-4bfb-a5dc-0ec1b6ab8bc8",
   "metadata": {
    "tags": []
   },
   "outputs": [],
   "source": [
    "# Import data into dataframe for easy use.\n",
    "\n",
    "import pandas as pd\n",
    "import matplotlib.pyplot as plt\n",
    "import seaborn as sns\n",
    "sns.set_theme(\"paper\")\n",
    "import os\n",
    "import plot_likert\n",
    "import numpy as np\n",
    "\n",
    "RESULTS_PATH = os.path.join(os.path.abspath(\"\"), \"user_study_results.csv\")\n",
    "results_raw = pd.read_csv(RESULTS_PATH)\n",
    "# All users consented to data being used. Drop auxiliary questions\n",
    "results_raw = results_raw.drop(results_raw.columns[[0,1,2,3,-1,-2]], axis = 1)\n",
    "\n",
    "results_task_1 = results_raw.drop(results_raw.columns[[2,5,8,11,14, 15,16,17,18,19]], axis = 1)\n",
    "results_global = results_raw.iloc[:,[15,16,17]]"
   ]
  },
  {
   "cell_type": "markdown",
   "id": "fbff476f-fff7-4b38-8ddb-3e22178205a6",
   "metadata": {
    "tags": []
   },
   "source": [
    "## Visualise Gloabl Results"
   ]
  },
  {
   "cell_type": "code",
   "execution_count": null,
   "id": "5e130bd2-e343-4062-af98-d3d4ad791c53",
   "metadata": {
    "tags": []
   },
   "outputs": [],
   "source": [
    "fig_1, (ax1) = plt.subplots(figsize = (8,5))\n",
    "bar = plot_likert.plot_likert(results_global.astype(int), plot_scale=[1,2,3,4,5], legend=None, plot_percentage=True, bar_labels=True, bar_labels_color=\"snow\", ax=ax1)\n",
    "handles, labels = ax1.get_legend_handles_labels()\n",
    "fig_1.legend(handles, plot_likert.scales.agree, bbox_to_anchor=(1.11, .85))\n",
    "ax1.grid(True)\n",
    "ax1.set_xticklabels([])\n",
    "manual_counts = ((np.array([0,0,0,1,1,2,3,1,1,8,6,10,7,11,6]))/19  * 100).round(2)\n",
    "str_out = []\n",
    "for i in range(len(manual_counts)):\n",
    "    if manual_counts[i] == 0:\n",
    "        str_out.append(\"\")\n",
    "    else:\n",
    "        str_out.append(str(manual_counts[i]))\n",
    "for idx, text_item in enumerate(bar.texts):\n",
    "    text_item.set_text(str_out[idx])\n",
    "ax1.set_xlabel(\"Percentage of responses (%)\")\n",
    "fig_1.savefig(os.path.join(os.path.abspath(\"\"), \"generated_figures\", \"global_results.pdf\"), format=\"pdf\",  bbox_inches = \"tight\")"
   ]
  },
  {
   "cell_type": "markdown",
   "id": "69760f61-6dde-4672-87a9-83870e49d89f",
   "metadata": {},
   "source": [
    "## Task 1: Fleiss Kappa and Bar Plots"
   ]
  },
  {
   "cell_type": "code",
   "execution_count": null,
   "id": "c947cd7a-0e7f-4c78-8219-bcf20ab53f32",
   "metadata": {
    "tags": []
   },
   "outputs": [],
   "source": [
    "results_task_1\n",
    "results_task_1.fillna(0, inplace=True)\n",
    "count = 0\n",
    "before_yes = []\n",
    "before_no = []\n",
    "after_yes = []\n",
    "after_no = []\n",
    "for column in results_task_1.columns:\n",
    "    # Prevent NaN after reload.\n",
    "    results_task_1[column] = results_task_1[column].map({\"Yes\":1, \"No\":0, 0:0, 1:1})\n",
    "    yes_score = results_task_1[column].to_numpy().sum()\n",
    "    no_score = 19 - yes_score\n",
    "    if count % 2 == 0:\n",
    "        before_yes.append(yes_score)\n",
    "        before_no.append(no_score)\n",
    "    else:\n",
    "        after_no.append(no_score)\n",
    "        after_yes.append(yes_score)\n",
    "    count += 1\n",
    "\n",
    "tweet_no = 5\n",
    "ind = np.arange(tweet_no)\n",
    "width = 0.35 \n",
    "fig_2, (ax1, ax2) = plt.subplots(1, 2, figsize=(12,5), sharey=True)\n",
    "before_yes_leg = ax1.bar(ind, before_yes, width)\n",
    "before_no_leg = ax1.bar(ind + width, before_no, width)\n",
    "import matplotlib.ticker as ticker\n",
    "for axis in [ax1.yaxis]:\n",
    "    axis.set_major_locator(ticker.MaxNLocator(integer=True))\n",
    "ax1.legend([before_yes_leg, before_no_leg], labels = [\"Yes\", \"No\"])\n",
    "ax1.set_ylabel(\"Frequency\")\n",
    "ax1.set_title(\"Did you have reason to doubt the tweet a priori?\")\n",
    "ax1.set_xticklabels([\"\",\"Tweet 1\", \"Tweet 2\", \"Tweet 3\", \"Tweet 4\" , \"Tweet 5\"], rotation = 30)\n",
    "\n",
    "after_yes_leg = ax2.bar(ind, after_yes, width)\n",
    "after_no_leg = ax2.bar(ind + width, after_no, width)\n",
    "ax2.legend([after_yes_leg, after_no_leg], labels = [\"Yes\", \"No\"])\n",
    "ax2.set_title(\"Did the browser extension support your experience?\")\n",
    "ax2.set_xticklabels([\"\",\"Tweet 1\", \"Tweet 2\", \"Tweet 3\", \"Tweet 4\" , \"Tweet 5\"], rotation = 30)\n",
    "for axis in [ax2.yaxis]:\n",
    "    axis.set_major_locator(ticker.MaxNLocator(integer=True))\n",
    "fig_2.tight_layout()\n",
    "fig_2.savefig(os.path.join(os.path.abspath(\"\"), \"generated_figures\", \"task1_results.pdf\"), format=\"pdf\",  bbox_inches = \"tight\")"
   ]
  },
  {
   "cell_type": "code",
   "execution_count": null,
   "id": "a5b4c84a-e416-4153-8ff9-2dec84c8db48",
   "metadata": {
    "tags": []
   },
   "outputs": [],
   "source": [
    "arr = results_task_1.to_numpy()\n",
    "from statsmodels.stats import inter_rater as irr\n",
    "dats, cats = irr.aggregate_raters(arr[:,1::2].transpose())\n",
    "print(arr[:,1::2].transpose())\n",
    "print(dats)\n",
    "print(irr.fleiss_kappa(dats, method=\"rand\"))\n",
    "\n",
    "dats, cats = irr.aggregate_raters(arr.transpose())\n",
    "print(arr.transpose())\n",
    "print(dats)\n",
    "print(irr.fleiss_kappa(dats, method=\"rand\"))\n",
    "\n",
    "dats, cats = irr.aggregate_raters(arr[:,0::2].transpose())\n",
    "print(arr[:,0::2].transpose())\n",
    "print(dats)\n",
    "print(irr.fleiss_kappa(dats, method=\"rand\"))\n"
   ]
  },
  {
   "cell_type": "code",
   "execution_count": null,
   "id": "8cfee71d-f7bb-447d-a3e3-9b257f274d19",
   "metadata": {},
   "outputs": [],
   "source": []
  }
 ],
 "metadata": {
  "kernelspec": {
   "display_name": "Python 3 (ipykernel)",
   "language": "python",
   "name": "python3"
  },
  "language_info": {
   "codemirror_mode": {
    "name": "ipython",
    "version": 3
   },
   "file_extension": ".py",
   "mimetype": "text/x-python",
   "name": "python",
   "nbconvert_exporter": "python",
   "pygments_lexer": "ipython3",
   "version": "3.8.15"
  }
 },
 "nbformat": 4,
 "nbformat_minor": 5
}
